{
 "cells": [
  {
   "cell_type": "markdown",
   "metadata": {},
   "source": [
    "### Flask로 프로젝트 시작하기"
   ]
  },
  {
   "cell_type": "markdown",
   "metadata": {},
   "source": [
    "웹 프레임 워크??\n",
    "\n",
    "-> 웹 개발에 필요한, 자주 사용해서 일정한 패턴이 있는 틀을 제공 \n",
    "\n",
    "-> 불필요한 개발을 줄이고, 로직에만 집중하게 하는 장점\n",
    "\n",
    "__'서버'__를 만드는 것 __==__ 누군가 request를 하면 그에 해당하는 __response__를 돌려주는 시스템을 만드는 것"
   ]
  },
  {
   "cell_type": "markdown",
   "metadata": {},
   "source": [
    "#### WSGI Framework\n",
    "쉽고 빠르게 웹을 만드는 기능을 지원\n",
    "\n",
    "- URL routing : 주소 받아서 처리해줌\n",
    "- Input form handling\n",
    "- output formats with a Templating engine\n",
    "- DB connection through an ORM"
   ]
  },
  {
   "cell_type": "markdown",
   "metadata": {},
   "source": [
    "#### Flask\n",
    "\n",
    "'Micro' : Flask aims to keep the core simple but extensible.\n",
    "\n",
    "-> glue한 특징이 있음, loosely coupled\n",
    "\n",
    "(vs 'Full stack': 모든 기능을 다 지원, ex] Django )"
   ]
  },
  {
   "cell_type": "markdown",
   "metadata": {},
   "source": [
    "![1](https://user-images.githubusercontent.com/38183218/43053269-c2857e64-8e66-11e8-8529-bf49cc5bdf79.PNG)\n",
    "new project -> 가상환경으로 설정 후 -> 디렉토리 생성한다"
   ]
  },
  {
   "cell_type": "markdown",
   "metadata": {},
   "source": [
    "#### Flask 생성자\n",
    "\n",
    "![](https://user-images.githubusercontent.com/38183218/43066277-305923c2-8e9f-11e8-8eec-57d07f5cefb7.PNG)\n",
    "\n",
    "**app = Flask(\\__name__) ** \n",
    "\n",
    "#현재 실행되는 폴더를 기준으로 Flask객체를 만든다 \n",
    "\n",
    "\n",
    "**@app.route('/')** # request를 한다\n",
    "\n",
    "   **return** 'Hello World!' # response를 한다\n",
    "    \n",
    "  "
   ]
  },
  {
   "cell_type": "markdown",
   "metadata": {},
   "source": [
    "#### ctrl + 숫자키\n",
    "파이참은 사용자 편의를 위해 여러 view를 제공한다\n",
    "\n",
    "예를들면 _ctrl+6_은 TODO로 주석이 달린 내용을 보여주어 협업이나 과제 설정시 유용하게 사용 가능하다\n",
    "![](https://user-images.githubusercontent.com/38183218/43053271-c2e2bdae-8e66-11e8-8291-b37c58ba353b.PNG)\n"
   ]
  },
  {
   "cell_type": "markdown",
   "metadata": {},
   "source": [
    "#### route\n",
    "@app.route('/')\n",
    "\n",
    "@app.route('/a')\n",
    "\n",
    "route는 경로를 알려주는데 경로에 따라 어떤 함수를 돌려줄지 결정한다\n",
    "\n",
    "시스템은 어떤 입력을 받아서 어떤 결과를 돌려주는 지 결정하는 것이 중요하다\n",
    "\n",
    "플라스크는 간단한 방식으로 라우팅을 제공한다\n",
    "\n",
    "입력은 링크,주소 이거나 form의 두 가지 방식 -> 어떤 방식 쓸 것인지 미리 정해야한다\n",
    "\n",
    "![](https://user-images.githubusercontent.com/38183218/43053272-c306e800-8e66-11e8-8d35-24dc481fb93d.PNG)\n",
    "![](https://user-images.githubusercontent.com/38183218/43053273-c32a9e4e-8e66-11e8-87e4-e60f69d92d7d.PNG)\n"
   ]
  },
  {
   "cell_type": "markdown",
   "metadata": {},
   "source": [
    "#### html\n",
    "웹브라우저로 보여주는 것이므로\n",
    "return 에는 실질적으로 html이 들어가야한다\n",
    "우선적으로 return의 스트링에 html 태그를 박아넣는 방법을 이용할 수 있다"
   ]
  },
  {
   "cell_type": "markdown",
   "metadata": {},
   "source": [
    "#### 변수\n",
    "name이라는 변수 이용해서 넘겨줄 값을 동적으로 받았다\n",
    "![](https://user-images.githubusercontent.com/38183218/43053275-c3744e86-8e66-11e8-8fe5-0358a5185f15.PNG)\n",
    "![](https://user-images.githubusercontent.com/38183218/43053343-204fad26-8e67-11e8-9087-ec0064f698a3.PNG)"
   ]
  },
  {
   "cell_type": "markdown",
   "metadata": {},
   "source": [
    "#### render_template\n",
    "render_template을 이용하면 미리 저장된 html 파일을 뿌려줄 수 있다\n",
    "![](https://user-images.githubusercontent.com/38183218/43053344-207330b6-8e67-11e8-91dc-56a181d2661e.PNG)\n",
    "![](https://user-images.githubusercontent.com/38183218/43053442-a22bf26e-8e67-11e8-91f4-26c908338503.PNG)"
   ]
  },
  {
   "cell_type": "markdown",
   "metadata": {},
   "source": [
    "#### 저장된 templates 보여주는 간단한 페이지 구현하기\n",
    "render_template에 idx를 받아오는 파라미터를 이용하여 저장된 템플릿으로의 링크 리스트를 만든다\n",
    "![](https://user-images.githubusercontent.com/38183218/43054356-1d24e300-8e6c-11e8-88f8-c030a5b8c4c7.PNG)\n",
    "![](https://user-images.githubusercontent.com/38183218/43054327-f5a6cff0-8e6b-11e8-81d7-715d8f189407.PNG)\n",
    "![](https://user-images.githubusercontent.com/38183218/43054328-f5ca231a-8e6b-11e8-9263-67a91a11d73c.PNG)\n",
    "위와 같이 저장된 template을 뿌려준다"
   ]
  },
  {
   "cell_type": "markdown",
   "metadata": {},
   "source": [
    "#### html5 boiler plates와 bootstrap boiler plates를 이용한 예제\n",
    "\n",
    "templates 에 html\n",
    "\n",
    "static 에 css, js\n"
   ]
  },
  {
   "cell_type": "markdown",
   "metadata": {},
   "source": [
    "\n",
    "css와 js 폴더를 만들어 boiler plates를 갖다 붙인다. 링크만 잘 맞춰주면 쉽게 동작!\n",
    "\n",
    "![](https://user-images.githubusercontent.com/38183218/43057446-484a8e84-8e7d-11e8-837f-75604af36d54.PNG)\n",
    "![](https://user-images.githubusercontent.com/38183218/43057447-486d2732-8e7d-11e8-90b2-b0f100565819.PNG)"
   ]
  },
  {
   "cell_type": "markdown",
   "metadata": {},
   "source": [
    "기본 페이지 layout을 만들어 놓고 상속받는 방식, \n",
    "\n",
    "거기에 jinja template를 이용한 blocking으로 \n",
    "\n",
    "간단한 drop-down 메뉴를 구성해보았다\n",
    " \n",
    "![](https://user-images.githubusercontent.com/38183218/43064131-083cb95e-8e99-11e8-9c13-3aa86772f89f.PNG)\n",
    "![](https://user-images.githubusercontent.com/38183218/43064133-08a7f3e0-8e99-11e8-8d59-abc17f3d5b47.PNG)"
   ]
  },
  {
   "cell_type": "code",
   "execution_count": null,
   "metadata": {},
   "outputs": [],
   "source": []
  }
 ],
 "metadata": {
  "kernelspec": {
   "display_name": "Python 3",
   "language": "python",
   "name": "python3"
  },
  "language_info": {
   "codemirror_mode": {
    "name": "ipython",
    "version": 3
   },
   "file_extension": ".py",
   "mimetype": "text/x-python",
   "name": "python",
   "nbconvert_exporter": "python",
   "pygments_lexer": "ipython3",
   "version": "3.6.4"
  }
 },
 "nbformat": 4,
 "nbformat_minor": 2
}
